{
 "cells": [
  {
   "cell_type": "code",
   "execution_count": 1,
   "id": "1f946e08",
   "metadata": {},
   "outputs": [
    {
     "data": {
      "text/plain": [
       "'\\n******\\n******\\n****o*\\np***o*\\npyt*o*\\npytho*\\npython\\n'"
      ]
     },
     "execution_count": 1,
     "metadata": {},
     "output_type": "execute_result"
    }
   ],
   "source": [
    "'''\n",
    "******\n",
    "******\n",
    "****o*\n",
    "p***o*\n",
    "pyt*o*\n",
    "pytho*\n",
    "python\n",
    "'''\n"
   ]
  },
  {
   "cell_type": "code",
   "execution_count": 1,
   "id": "0239e05c",
   "metadata": {},
   "outputs": [],
   "source": [
    "from random import choice"
   ]
  },
  {
   "cell_type": "code",
   "execution_count": 2,
   "id": "5b22f405",
   "metadata": {},
   "outputs": [],
   "source": [
    "def word_generator():\n",
    "    with open(\"wordlist.txt\",\"r\") as f:\n",
    "        lines=f.readlines()\n",
    "    f.close\n",
    "    lines=[i.strip(\"\\n\") for i in lines]\n",
    "    return choice(lines)"
   ]
  },
  {
   "cell_type": "code",
   "execution_count": 3,
   "id": "84da1654",
   "metadata": {},
   "outputs": [
    {
     "data": {
      "text/plain": [
       "'calicut'"
      ]
     },
     "execution_count": 3,
     "metadata": {},
     "output_type": "execute_result"
    }
   ],
   "source": [
    "word_generator()"
   ]
  },
  {
   "cell_type": "code",
   "execution_count": 5,
   "id": "8f723aee",
   "metadata": {},
   "outputs": [
    {
     "name": "stdout",
     "output_type": "stream",
     "text": [
      "\t you are left with {} turns 9\n",
      "\n",
      "make a guess:c\n",
      "******\t you are left with {} turns 8\n",
      "\n",
      "make a guess:k\n",
      "******\t you are left with {} turns 7\n",
      "\n",
      "make a guess:m\n",
      "m*****\t you are left with {} turns 6\n",
      "\n",
      "make a guess:a\n",
      "m*****\t you are left with {} turns 5\n",
      "\n",
      "make a guess:s\n",
      "m*s***\t you are left with {} turns 4\n",
      "\n",
      "make a guess:y\n",
      "mys***\t you are left with {} turns 3\n",
      "\n",
      "make a guess:e\n",
      "mys**e\t you are left with {} turns 2\n",
      "\n",
      "make a guess:o\n",
      "myso*e\t you are left with {} turns 1\n",
      "\n",
      "make a guess:r\n",
      "mysore\n",
      "hurray! you won\n"
     ]
    }
   ],
   "source": [
    "word =  word_generator()\n",
    "guessed = \"\"\n",
    "turns = int(len(word)*1.5)\n",
    "while (True):\n",
    "    print(\"\\t you are left with {} turns\",format(turns))\n",
    "    inp = input(\"\\nmake a guess:\")\n",
    "    turns = turns-1\n",
    "    if inp in word:\n",
    "        guessed = guessed + inp\n",
    "    unguessed_char = 0\n",
    "    for i in word:\n",
    "        if i in guessed:\n",
    "            print(i,end=\"\")\n",
    "        else:\n",
    "            unguessed_char +=1\n",
    "            print(\"*\",end=\"\")\n",
    "    if unguessed_char == 0:\n",
    "        print(\"\\nhurray! you won\")\n",
    "        break\n",
    "    if turns==0:\n",
    "        print(\"\\ntoin toin toin .... you ran out of attempts\")\n",
    "        break"
   ]
  },
  {
   "cell_type": "code",
   "execution_count": null,
   "id": "04becb8c",
   "metadata": {},
   "outputs": [],
   "source": []
  }
 ],
 "metadata": {
  "kernelspec": {
   "display_name": "Python 3 (ipykernel)",
   "language": "python",
   "name": "python3"
  },
  "language_info": {
   "codemirror_mode": {
    "name": "ipython",
    "version": 3
   },
   "file_extension": ".py",
   "mimetype": "text/x-python",
   "name": "python",
   "nbconvert_exporter": "python",
   "pygments_lexer": "ipython3",
   "version": "3.9.6"
  }
 },
 "nbformat": 4,
 "nbformat_minor": 5
}
